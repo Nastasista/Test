{
 "cells": [
  {
   "cell_type": "markdown",
   "metadata": {},
   "source": []
  },
  {
   "cell_type": "markdown",
   "metadata": {},
   "source": [
    "### Exercises"
   ]
  },
  {
   "cell_type": "code",
   "execution_count": null,
   "metadata": {},
   "outputs": [],
   "source": []
  },
  {
   "cell_type": "code",
   "execution_count": null,
   "metadata": {},
   "outputs": [],
   "source": [
    "\"\"\"1. Celsius and Fahrenheit Converter\n",
    "\n",
    "Description: To convert temperature between Fahrenheit to Celsius and Celsius to Fahrenheit\n",
    "\"\"\"\n",
    "celsius = float(input())\n",
    "fahrenheit = float((celsius * 1.8 + 32))\n",
    "print(fahrenheit)"
   ]
  },
  {
   "cell_type": "code",
   "execution_count": null,
   "metadata": {},
   "outputs": [],
   "source": [
    "\"\"\"2. Road tax\n",
    "Description: Write a program to accept the cost price of a bike and\n",
    "             display the road tax to be paid according to the following criteria.\n",
    "    \n",
    "Cost price (in Rs)                Tax\n",
    "   > 100_000                      15%\n",
    "   > 50_000 and <= 100_000        10%\n",
    "   <= 50_000                      5%\n",
    "\"\"\"\n",
    "\n",
    "prise = float(input())\n",
    "if prise > 100000:\n",
    " tax = 15/100 * prise\n",
    "elif prise > 50000 and tax <= 100000:\n",
    " tax = 10/100 * prise\n",
    "elif prise <= 50000:\n",
    " tax = 5/100 * prise\n",
    "road_tax = prise * tax\n",
    "print(road_tax)\n"
   ]
  },
  {
   "cell_type": "code",
   "execution_count": null,
   "metadata": {},
   "outputs": [],
   "source": [
    "\"\"\"3. Data Format (Yandex Contest)\n",
    "\n",
    "Description:\n",
    "As you know, there are two most common date formats:\n",
    "- European (first day, then month, then year)\n",
    "- American (first month, then day, then year)\n",
    "\n",
    "The system administrator changed the date on one of the backups and now wants to return the date back.\n",
    "But he did not check what format the date is in the system.\n",
    "\n",
    "In other words, you are given a record of some correct date.\n",
    "It is required to find out whether the date is uniquely determined from this record.\n",
    "\n",
    "INPUT:\n",
    "Three integers x, y, z:\n",
    "1 <= x <= 31, 1 <= y <= 31, 1970 <= z <= 2069.\n",
    "It is guaranteed that at least one format the xyz entry specifies the correct date.\n",
    "\n",
    "OUTPUT:\n",
    "Print 1 if the date is uniquely determined, and 0 otherwise.\n",
    "\n",
    "\n",
    "Test Case 1:\n",
    "INPUT:\n",
    "x = 1\n",
    "y = 2\n",
    "z = 2003\n",
    "\n",
    "OUTPUT: 0\n",
    "\n",
    "Test Case 2:\n",
    "INPUT:\n",
    "x = 2\n",
    "y = 27\n",
    "z = 2008\n",
    "\n",
    "OUTPUT: 1\n",
    "\n",
    "Description of the test cases:\n",
    "In the first test case:\n",
    "- with one recording system, the date is February 1, 2003;\n",
    "- with the other - January 2, 2003.\n",
    "It is impossible to name the date uniquely.\n",
    "\n",
    "\n",
    "In the second test case:\n",
    "the correct version of the date can be only American format: February 29, 2008.\n",
    "\"\"\"\n",
    "x = int(input(\"1 <= x <= 31: \"))\n",
    "y = int(input(\"1 <= y <= 31: \"))\n",
    "z = int(input(\"1970 <= z <= 2069: \"))\n",
    "if x <= 12 and y <= 12 and x != y:\n",
    "    print(0)\n",
    "else:\n",
    "    x > 12 or y > 12\n",
    "    print(1)\n"
   ]
  },
  {
   "cell_type": "code",
   "execution_count": null,
   "metadata": {},
   "outputs": [],
   "source": [
    "\"\"\" 4. Решатель для квадратного уравнения\n",
    "\n",
    "\"\"\""
   ]
  },
  {
   "cell_type": "markdown",
   "metadata": {},
   "source": [
    "### References:\n",
    "<ol>\n",
    "<li> <a href=\"https://www.tutorialspoint.com/python/python_basic_operators.htm\">Python: Basic Operators</a> </li>\n",
    "<li> <a href=\"https://www.geeksforgeeks.org/assignment-operators-in-python/\">Assignment Operators</a> </li>\n",
    "<li> <a href=\"https://www.w3schools.com/python/python_conditions.asp\">Conditions and if statements</a> </li>\n",
    "</ol>"
   ]
  }
 ],
 "metadata": {
  "kernelspec": {
   "display_name": "Python 3 (ipykernel)",
   "language": "python",
   "name": "python3"
  },
  "language_info": {
   "codemirror_mode": {
    "name": "ipython",
    "version": 3
   },
   "file_extension": ".py",
   "mimetype": "text/x-python",
   "name": "python",
   "nbconvert_exporter": "python",
   "pygments_lexer": "ipython3",
   "version": "3.9.12"
  }
 },
 "nbformat": 4,
 "nbformat_minor": 4
}
